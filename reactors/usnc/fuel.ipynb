{
 "cells": [
  {
   "cell_type": "markdown",
   "metadata": {},
   "source": [
    "Power: 40 MWth, Enrichment: 12%, EFFPD: 2042\n",
    "\n",
    "http://inis.iaea.org/Search/search.aspx?orig_q=RN:47042869\n",
    "\n",
    "Burnup = 42.7 GWd/mtU\n",
    "\n",
    "http://www.osti.gov/servlets/purl/1431209/"
   ]
  },
  {
   "cell_type": "code",
   "execution_count": 12,
   "metadata": {},
   "outputs": [
    {
     "name": "stdout",
     "output_type": "stream",
     "text": [
      "Uranium mass:  1912.88056206089\n"
     ]
    }
   ],
   "source": [
    "# burnup [MWd/mtU]\n",
    "b = 42.7e3\n",
    "\n",
    "# lifetime in days\n",
    "l = 2042\n",
    "\n",
    "# power [MWth]\n",
    "p = 40\n",
    "\n",
    "# uranium mass [metric tons]\n",
    "M = p*l/b\n",
    "\n",
    "# uranium mass [kg]\n",
    "M = M*1e3\n",
    "print(\"Uranium mass: \", M)"
   ]
  },
  {
   "cell_type": "markdown",
   "metadata": {},
   "source": [
    "Cost Analysis:\n",
    "\n",
    "Feed: 0.711%, Tails: 0.25%, Enrichment: 12%\n",
    "\n",
    "U3O8 Cost = $24.65/lb U3O8\n",
    "\n",
    "Conversion Cost = $22.5/kgU as UF6\n",
    "\n",
    "UF6 Cost = $86.25/kgU as UF6\n",
    "\n",
    "SWU Cost = $47/SWU\n",
    "\n",
    "Result:\n",
    "\n",
    "Optimal Tails: 0.165\n",
    "EUP Cost: $3198.63/kgU\n",
    "\n",
    "https://www.uxc.com/p/tools/FuelCalculator.aspx\n"
   ]
  },
  {
   "cell_type": "code",
   "execution_count": 14,
   "metadata": {},
   "outputs": [
    {
     "name": "stdout",
     "output_type": "stream",
     "text": [
      "total cost: $ 6.114771391100703 millions\n"
     ]
    }
   ],
   "source": [
    "# Enriched Uranium Price\n",
    "eup = 3196.63\n",
    "\n",
    "totalcost = M * eup\n",
    "\n",
    "print(\"total cost: $\", totalcost/1e6, \"millions\")"
   ]
  }
 ],
 "metadata": {
  "kernelspec": {
   "display_name": "Python 3",
   "language": "python",
   "name": "python3"
  },
  "language_info": {
   "codemirror_mode": {
    "name": "ipython",
    "version": 3
   },
   "file_extension": ".py",
   "mimetype": "text/x-python",
   "name": "python",
   "nbconvert_exporter": "python",
   "pygments_lexer": "ipython3",
   "version": "3.6.7"
  }
 },
 "nbformat": 4,
 "nbformat_minor": 2
}
