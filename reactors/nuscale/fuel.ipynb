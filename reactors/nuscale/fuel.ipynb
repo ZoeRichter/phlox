{
 "cells": [
  {
   "cell_type": "markdown",
   "metadata": {},
   "source": [
    "The calculations are based on the data provided for the 160MWth Small Modular Reactor (SMR). Then, the fuel requirements are calculated for a scaled down version of 20MWth."
   ]
  },
  {
   "cell_type": "markdown",
   "metadata": {},
   "source": [
    "Power: 160 MWth, Enrichment: 4.95%, Form of fuel: UO2\n",
    "No of fuel assemblies: 37, Mass of UO2 of one fuel assembly: 549.48 lb\n",
    "\n",
    "Burn-up: 12 GWd/MTU\n",
    "\n",
    "https://www.nrc.gov/reactors/new-reactors/design-cert/nuscale.html\n"
   ]
  },
  {
   "cell_type": "code",
   "execution_count": 4,
   "metadata": {},
   "outputs": [
    {
     "name": "stdout",
     "output_type": "stream",
     "text": [
      "Uranium mass [metric ton]:  8.129071945547349\n"
     ]
    }
   ],
   "source": [
    "c = 238/(238+32)  # uranium weight percentage\n",
    "\n",
    "umass = 549.49 / 2.20462 * 37 * c\n",
    "\n",
    "umass = umass/1e3\n",
    "\n",
    "print(\"Uranium mass [metric ton]: \", umass)"
   ]
  },
  {
   "cell_type": "code",
   "execution_count": 8,
   "metadata": {},
   "outputs": [
    {
     "name": "stdout",
     "output_type": "stream",
     "text": [
      "The refueling time is:  1.6703572490850715 years\n"
     ]
    }
   ],
   "source": [
    "p = 160  # power\n",
    "refuelingtime = 12e3*umass/p\n",
    "print(\"The refueling time is: \", refuelingtime/365, \"years\")"
   ]
  },
  {
   "cell_type": "code",
   "execution_count": 10,
   "metadata": {},
   "outputs": [
    {
     "name": "stdout",
     "output_type": "stream",
     "text": [
      "The uranium mass required is  1016.1339931934185 kg\n"
     ]
    }
   ],
   "source": [
    "np = 20  # new power after scaling down the reactor\n",
    "numass = np * refuelingtime / 12e3\n",
    "print(\"The uranium mass required is \", numass*1e3, \"kg\")"
   ]
  },
  {
   "cell_type": "markdown",
   "metadata": {},
   "source": [
    "Cost Analysis:\n",
    "\n",
    "Feed: 0.711%, Tails: 0.25%, Enrichment: 4.95%\n",
    "\n",
    "U3O8 Cost = $24.65/lb U3O8\n",
    "\n",
    "Conversion Cost = $22.5/kgU as UF6\n",
    "\n",
    "UF6 Cost = $86.25/kgU as UF6\n",
    "\n",
    "SWU Cost = $47/SWU\n",
    "\n",
    "Result:\n",
    "\n",
    "Optimal Tails: 0.165\n",
    "EUP Cost: $1210.86/kgU\n",
    "\n",
    "https://www.uxc.com/p/tools/FuelCalculator.aspx"
   ]
  },
  {
   "cell_type": "code",
   "execution_count": 12,
   "metadata": {},
   "outputs": [
    {
     "name": "stdout",
     "output_type": "stream",
     "text": [
      "total cost: $ 1.2303960069981827 millions\n"
     ]
    }
   ],
   "source": [
    "# Enriched Uranium Price\n",
    "eup = 1210.86\n",
    "\n",
    "totalcost = numass * 1e3 * eup\n",
    "\n",
    "print(\"total cost: $\", totalcost/1e6, \"millions\")"
   ]
  }
 ],
 "metadata": {
  "kernelspec": {
   "display_name": "Python 3",
   "language": "python",
   "name": "python3"
  },
  "language_info": {
   "codemirror_mode": {
    "name": "ipython",
    "version": 3
   },
   "file_extension": ".py",
   "mimetype": "text/x-python",
   "name": "python",
   "nbconvert_exporter": "python",
   "pygments_lexer": "ipython3",
   "version": "3.6.7"
  }
 },
 "nbformat": 4,
 "nbformat_minor": 2
}
