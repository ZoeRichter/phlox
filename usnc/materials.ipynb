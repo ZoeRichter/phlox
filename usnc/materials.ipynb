{
 "cells": [
  {
   "cell_type": "markdown",
   "metadata": {},
   "source": [
    "UO2 + U2CO3\n",
    "1:1 molar fraction\n",
    "\n",
    "e% = 19.75\n",
    "%"
   ]
  },
  {
   "cell_type": "code",
   "execution_count": 4,
   "metadata": {},
   "outputs": [
    {
     "name": "stdout",
     "output_type": "stream",
     "text": [
      "0.3333333333333333\n",
      "0.08333333333333333\n",
      "0.5833333333333333\n"
     ]
    }
   ],
   "source": [
    "NU_UO2 = 1/3\n",
    "NO_UO2 = 2/3\n",
    "\n",
    "NU_U2CO3 = 2/6\n",
    "NC_U2CO3 = 1/6\n",
    "NO_U2CO3 = 3/6\n",
    "\n",
    "NU = 0.5 * NU_UO2 + 0.5 * NU_U2CO3\n",
    "NC = 0.5 * NC_U2CO3\n",
    "NO = 0.5 * NO_UO2 + 0.5 * NO_U2CO3\n",
    "N = NU + NC + NO\n",
    "\n",
    "print(NU)\n",
    "print(NC)\n",
    "print(NO)"
   ]
  },
  {
   "cell_type": "code",
   "execution_count": 7,
   "metadata": {},
   "outputs": [
    {
     "name": "stdout",
     "output_type": "stream",
     "text": [
      "0.06650607864568411\n",
      "0.26682725468764923\n"
     ]
    }
   ],
   "source": [
    "e = 0.1975\n",
    "A = e/(1-e)*238/235\n",
    "NU235 = A*NU/(1+A)\n",
    "NU238 = NU - NU235\n",
    "print(NU235)\n",
    "print(NU238)"
   ]
  },
  {
   "cell_type": "code",
   "execution_count": null,
   "metadata": {},
   "outputs": [],
   "source": []
  }
 ],
 "metadata": {
  "kernelspec": {
   "display_name": "Python 3",
   "language": "python",
   "name": "python3"
  },
  "language_info": {
   "codemirror_mode": {
    "name": "ipython",
    "version": 3
   },
   "file_extension": ".py",
   "mimetype": "text/x-python",
   "name": "python",
   "nbconvert_exporter": "python",
   "pygments_lexer": "ipython3",
   "version": "3.6.7"
  }
 },
 "nbformat": 4,
 "nbformat_minor": 2
}
