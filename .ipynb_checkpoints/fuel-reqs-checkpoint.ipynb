{
 "cells": [
  {
   "cell_type": "markdown",
   "metadata": {},
   "source": [
    "### Xe-100 Fuel Requirements\n",
    "\n",
    "To find the fuel required, the equation used is:\n",
    "\n",
    "$$ \\text{total required fuel mass [kgHM]} = \\frac{(\\text{reactor power [MWth]}*\\text{core life time [days]})}{\\text{burnup [MWd/kgHWM]}} $$\n",
    "\n",
    "Reactor power is scaled to 20 MWth, the core lifetime is 1 year (to find the fuel for 1 year) and burnup is 160 MWd/kgHM, given by (X-energy Xe-100 Reactor initial NRC meeting, Harlan)."
   ]
  },
  {
   "cell_type": "code",
   "execution_count": 2,
   "metadata": {},
   "outputs": [
    {
     "name": "stdout",
     "output_type": "stream",
     "text": [
      "45.625\n"
     ]
    }
   ],
   "source": [
    "fuel_req = 20*365/160\n",
    "\n",
    "print(fuel_req)"
   ]
  },
  {
   "cell_type": "markdown",
   "metadata": {},
   "source": [
    "### Xe-100 Fuel Cost\n",
    "\n",
    "Using the approximation that a 10\\% enriched fuel pebble with a TRISO packing fraction of 50% costs ~\\$5300, the cost of the uranium alone is subtracted to find the fabrication costs of a single pebble. (Advanced Fuel Cycle Cost Basis – 2017 Edition, Dixon)\n",
    "<br>\n",
    "Once the mass is found (calculate volume, use density), the fuel cost calculator [here](https://www.uxc.com/p/tools/FuelCalculator.aspx) gives the cost of 1 kg, which is used to find the uranium cost in one pebble.  It is assumed that while the number of particles and the enrichment may change, the TRISO particles still use UCO kernels.\n",
    "<br>\n",
    "\n",
    "To find the cost of a single Xe-100 pebble, the cost of the uranium in one pebble is added to the fabrication costs.  Using the specifications for UCO kernel size and the number of TRISO particles per pebble, the volume of UCO, and then the mass using density, can be calculated.\n",
    "<br>\n",
    "\n",
    "The same fuel cost calculator is used to find the cost of 1 kg of 15.5\\%, which is used to find the uranium cost of one pebble.  Added to fabrication costs, we arrive at an estimate of the cost/pebble.  Multiply by the number of pebbles needed for one year, (using fuel needed for one year) and we have cost of fuel per year."
   ]
  },
  {
   "cell_type": "code",
   "execution_count": 7,
   "metadata": {},
   "outputs": [
    {
     "name": "stdout",
     "output_type": "stream",
     "text": [
      "3640.0163558350678\n",
      "\n",
      "5129.412138080876\n",
      "18.67114407843331\n"
     ]
    }
   ],
   "source": [
    "# a packing fraction of 50% means the particles take up 50% of the volume\n",
    "import numpy as np\n",
    "\n",
    "uco_dens = 11.0 # g/cc\n",
    "pebble_rad = 3.0 # cm\n",
    "u10_vol = 0.5* pebble_rad**3 * np.pi *(4/3) # cc\n",
    "u10_mass = u10_vol*uco_dens /1000 #kg\n",
    "\n",
    "u10_1kg_cost = 2724.22\n",
    "\n",
    "pebble_fab_cost = 5300 - u10_1kg_cost*u10_mass\n",
    "\n",
    "kernel_r = 0.02125 # cm\n",
    "kernel_vol = kernel_r**3 * np.pi * (4/3)\n",
    "num_kernel = 18000\n",
    "u15_vol = kernel_vol*num_kernel # cc\n",
    "u15_mass = u15_vol*uco_dens/1000 #kg\n",
    "u15_1kg_cost = 4344.73\n",
    "\n",
    "xe100_uco_cost = u15_mass*u15_1kg_cost\n",
    "\n",
    "xe100_pebb_cost = pebble_fab_cost + xe100_uco_cost\n",
    "print(xe100_pebb_cost)\n",
    "print()\n",
    "xe100_pebb_num = (fuel_req / u15_mass* (238/(238+12+16))) # number per year\n",
    "print(xe100_pebb_num)\n",
    "xe100_fuel_cost = (xe100_pebb_cost * xe100_pebb_num)/1000000 # $mil per year\n",
    "print(xe100_fuel_cost)"
   ]
  },
  {
   "cell_type": "code",
   "execution_count": null,
   "metadata": {},
   "outputs": [],
   "source": []
  }
 ],
 "metadata": {
  "kernelspec": {
   "display_name": "Python 3",
   "language": "python",
   "name": "python3"
  },
  "language_info": {
   "codemirror_mode": {
    "name": "ipython",
    "version": 3
   },
   "file_extension": ".py",
   "mimetype": "text/x-python",
   "name": "python",
   "nbconvert_exporter": "python",
   "pygments_lexer": "ipython3",
   "version": "3.7.4"
  }
 },
 "nbformat": 4,
 "nbformat_minor": 2
}
