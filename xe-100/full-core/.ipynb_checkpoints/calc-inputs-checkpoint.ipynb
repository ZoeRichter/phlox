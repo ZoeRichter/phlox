{
 "cells": [
  {
   "cell_type": "code",
   "execution_count": 3,
   "metadata": {},
   "outputs": [],
   "source": [
    "import numpy as np\n",
    "import scipy as sci\n",
    "import matplotlib.pyplot as plt\n",
    "from jinja2 import Template"
   ]
  },
  {
   "cell_type": "code",
   "execution_count": 4,
   "metadata": {},
   "outputs": [],
   "source": [
    "#need to automate here:\n",
    "#helium density calc based on temp\n",
    "#put in any enrichment conversions\n",
    "#at end, create input from template\n",
    "\n",
    "#current notes\n",
    "#I don't *think* I can have the number of axial layers as a variable I input - I could probably\n",
    "#have 'daughter' templates that could be repeated to get the cool mat cards, but I don't think I could\n",
    "#automate splitting the geometry into layers"
   ]
  },
  {
   "cell_type": "code",
   "execution_count": 5,
   "metadata": {},
   "outputs": [
    {
     "name": "stdout",
     "output_type": "stream",
     "text": [
      "[5.51474292 2.74456562]\n"
     ]
    }
   ],
   "source": [
    "#calculate helium density given temperature in C.  Calculated based on ideal gas law.\n",
    "\n",
    "#I just realized that I need to split into axial layers based on what temperatures have\n",
    "#xs data available, I can't just use this nice, evenly spaced array when I apply this\n",
    "#use for now to get code written\n",
    "R = 0.0821\n",
    "temp = [250 ,750] #celsius\n",
    "pres = [59.2154, 57.6363] #atm\n",
    "hedensity = np.zeros(len(temp))\n",
    "\n",
    "\n",
    "for i, t in enumerate(temp):\n",
    "    hedensity[i] = (4*pres[i])/((t+273.15)*R)\n",
    "    \n",
    "print(hedensity)"
   ]
  },
  {
   "cell_type": "code",
   "execution_count": 12,
   "metadata": {},
   "outputs": [
    {
     "name": "stdout",
     "output_type": "stream",
     "text": [
      "0.1328480257488653 0.7624364236923962 0.0860600953988691 0.017760170710428073\n"
     ]
    }
   ],
   "source": [
    "#calculate isotopic comp. of uranium isotopes for UCO\n",
    "#data on properties of UCO from Nagley et. all \"Fabrication...\"\n",
    "\n",
    "molUO2 = 0.714\n",
    "molUC86 = 0.123\n",
    "molUC100 = 0.164\n",
    "\n",
    "mu235 = 235.043\n",
    "mu238 = 238.050\n",
    "mo16 = 15.994\n",
    "mc12 = 12.000\n",
    "\n",
    "uenrich = 0.15\n",
    "\n",
    "massUO2 = (uenrich*mu235) + (1-uenrich)*mu238 + (2*mo16)\n",
    "massUC86 = (uenrich*mu235) + (1-uenrich)*mu238 + 1.86*mc12 #actually, should this be 1.86, or .86?\n",
    "massUC100 = (uenrich*mu235) + (1-uenrich)*mu238 + mc12\n",
    "\n",
    "massUCO = molUO2*massUO2 + molUC86*massUC86 + molUC100*massUC100\n",
    "\n",
    "o16wt = (2*molUO2*mo16)/(massUCO)\n",
    "u235wt = (uenrich*mu235)/(massUCO)\n",
    "u238wt = ((1-uenrich)*mu238)/(massUCO)\n",
    "c12wt = (molUC86*1.86*mc12 + molUC100*mc12)/(massUCO)\n",
    "\n",
    "print(u235wt, u238wt, o16wt, c12wt)"
   ]
  },
  {
   "cell_type": "code",
   "execution_count": null,
   "metadata": {},
   "outputs": [],
   "source": []
  },
  {
   "cell_type": "code",
   "execution_count": null,
   "metadata": {},
   "outputs": [],
   "source": []
  }
 ],
 "metadata": {
  "kernelspec": {
   "display_name": "Python 3",
   "language": "python",
   "name": "python3"
  },
  "language_info": {
   "codemirror_mode": {
    "name": "ipython",
    "version": 3
   },
   "file_extension": ".py",
   "mimetype": "text/x-python",
   "name": "python",
   "nbconvert_exporter": "python",
   "pygments_lexer": "ipython3",
   "version": "3.7.3"
  }
 },
 "nbformat": 4,
 "nbformat_minor": 2
}
