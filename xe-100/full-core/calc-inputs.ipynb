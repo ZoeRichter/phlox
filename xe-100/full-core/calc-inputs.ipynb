{
 "cells": [
  {
   "cell_type": "code",
   "execution_count": 8,
   "metadata": {},
   "outputs": [
    {
     "name": "stderr",
     "output_type": "stream",
     "text": [
      "/home/zoe/anaconda3/lib/python3.7/importlib/_bootstrap.py:219: QAWarning: pyne.material is not yet QA compliant.\n",
      "  return f(*args, **kwds)\n"
     ]
    }
   ],
   "source": [
    "import numpy as np\n",
    "import scipy as sci\n",
    "import matplotlib.pyplot as plt\n",
    "from jinja2 import Template\n",
    "from pyne import data\n",
    "from pyne.material import Material"
   ]
  },
  {
   "cell_type": "markdown",
   "metadata": {},
   "source": [
    "First we want the helium density in $10^24$ atoms per cc.\n",
    "\n",
    "\\begin{align}\n",
    "PV&=nRT\\\\\n",
    "\\frac{n}{V}&=\\frac{P}{RT}\n",
    "\\end{align}"
   ]
  },
  {
   "cell_type": "code",
   "execution_count": 2,
   "metadata": {},
   "outputs": [
    {
     "name": "stdout",
     "output_type": "stream",
     "text": [
      "0.000622077124202638\n"
     ]
    }
   ],
   "source": [
    "\n",
    "R = 8.314 # j/k-mol\n",
    "temp = [250 ,750] #celsius\n",
    "pres = [6*10**6, 5.84*10**6] #pascals\n",
    "hedensity = np.zeros(len(temp))\n",
    "\n",
    "\n",
    "for i, t in enumerate(temp):\n",
    "    hedensity[i] = ((pres[i])/((t+273.15)*R)) # mol/m^3 \n",
    "\n",
    "hedensavg = np.sum(hedensity)/len(hedensity)*(6.022*10**-7)# 10^24/cc\n",
    "\n",
    "print(hedensavg)"
   ]
  },
  {
   "cell_type": "markdown",
   "metadata": {},
   "source": [
    "### Isotopic composition of the fuel\n",
    "\n",
    "The enrichment of the UCO kernels in the TRISO particles is known.  Additionally, we know the molar contentrations of the three compounds that make UCO: $UO_2$ , $UC$, and $UC_{1.86}$.  The atomic mass of each element is given using the PYNE python library.  The steps are as follows:\n",
    "\n",
    "\\begin{align}\n",
    "M_{UO_{2}} = (w_f)M_{235U} + (1-w_f)M_{238U} + (2M_{16O}) \\\\\n",
    "M_{UC} = (w_f)M_{235U} + (1-w_f)M_{238U} + M_{12C} \\\\\n",
    "M_{UC_{1.86}} = (w_f)M_{235U} + (1-w_f)M_{238U} + 1.86M_{12C} \\\\\n",
    "\\end{align}\n",
    "\n",
    "The total mass of the UCO is the sum of these masses.  Then the isotopic concentration of each element is calculated as follows:\n",
    "\n",
    "\\begin{align}\n",
    "w_{16O} = \\frac{2\\chi_{UO_2}M_{16O}}{M_{UCO}} \\\\\n",
    "w_{235U} = \\frac{(w_f)M_{235U}}{M_{UCO}} \\\\\n",
    "w_{238U} = \\frac{(1-w_f)M_{238U}}{M_{UCO}} \\\\\n",
    "w_{12C} = \\frac{\\chi_{UC_{1.86}}(1.86)M_{12C} + \\chi_{UC_{100}}M_{12C}}{M_{UCO}} \\\\\n",
    "\\end{align}"
   ]
  },
  {
   "cell_type": "code",
   "execution_count": 20,
   "metadata": {},
   "outputs": [
    {
     "name": "stdout",
     "output_type": "stream",
     "text": [
      "m?\n",
      "     6012 -1.7761e-02\n",
      "     8016 -8.6071e-02\n",
      "     92235 -1.3891e-01\n",
      "     92238 -7.5726e-01\n",
      "\n"
     ]
    }
   ],
   "source": [
    "leu = Material({'U235': 0.155 , 'U238': 0.845})\n",
    "uo2 = Material()\n",
    "uc = Material()\n",
    "uc186 = Material()\n",
    "\n",
    "uo2.from_atom_frac({'O16': 2.0 , leu :1.0})\n",
    "uc.from_atom_frac({'C12':1, leu: 1.0})\n",
    "uc186.from_atom_frac({'C12':1.86, leu : 1.0})\n",
    "\n",
    "uco = Material()\n",
    "uco.from_atom_frac({uo2: 0.714, uc: 0.164, uc186: 0.123})\n",
    "print(uco.mcnp()) #the negative values for composition mean it is mass fraction, just like serpent\n"
   ]
  },
  {
   "cell_type": "code",
   "execution_count": 5,
   "metadata": {},
   "outputs": [
    {
     "data": {
      "text/plain": [
       "1.001"
      ]
     },
     "execution_count": 5,
     "metadata": {},
     "output_type": "execute_result"
    }
   ],
   "source": [
    "molUO2 + molUC186 + molUC100\n"
   ]
  },
  {
   "cell_type": "markdown",
   "metadata": {},
   "source": [
    "In order to find the core dimensions, I took an image of the reactor core given by X-energy in a presentation to the NRC.  \n",
    "<br>\n",
    "Then, I opened it in an image viewer that gave the cursor's coordinates in pixels, measured the reactor core features in pixels.  Knowing the outer core diameter, developed a scale between pixels and meters, and used that to determine the core geometry.\n",
    "\n",
    "\\begin{align}\n",
    "s (\\frac{cm}{px}) = 100* \\frac{RPV_D (m)}{RPV_D (px)}\\\\\n",
    "x (cm) = x (px) * scale\n",
    "\\end{align}"
   ]
  },
  {
   "cell_type": "code",
   "execution_count": 6,
   "metadata": {},
   "outputs": [
    {
     "name": "stdout",
     "output_type": "stream",
     "text": [
      "431.4202898550724\n",
      "\n",
      "123.76811594202897\n",
      "91.94202898550724\n",
      "215.7101449275362\n"
     ]
    }
   ],
   "source": [
    "core_dm = 4.88 # m\n",
    "core_dpx = 69 #px\n",
    "scale = core_dm/core_dpx *100 # cm/px\n",
    "\n",
    "inner_corerad_px = 17.5\n",
    "inner_corerad_cm = inner_corerad_px *scale\n",
    "reflect_px = 13\n",
    "reflect_cm = reflect_px *scale\n",
    "\n",
    "print(2*(reflect_cm+inner_corerad_cm)) #can't be more than 488, which is the diameter including RPV\n",
    "print()\n",
    "print(inner_corerad_cm)\n",
    "print(reflect_cm)\n",
    "print(inner_corerad_cm+reflect_cm)"
   ]
  },
  {
   "cell_type": "markdown",
   "metadata": {},
   "source": [
    "I found the midpoint of the cones on the top and bottom , and used the distance between these two midpoints as an adjusted height.  Then, I simplified by letting the reflector directly surround this region."
   ]
  },
  {
   "cell_type": "code",
   "execution_count": 7,
   "metadata": {},
   "outputs": [
    {
     "name": "stdout",
     "output_type": "stream",
     "text": [
      "965.391304347826\n"
     ]
    }
   ],
   "source": [
    "mid_bott_y = 228\n",
    "mid_top_y = 91.5\n",
    "\n",
    "adj_h_px = mid_bott_y - mid_top_y #px\n",
    "\n",
    "adj_h_cm = adj_h_px*scale\n",
    "\n",
    "print(adj_h_cm)"
   ]
  },
  {
   "cell_type": "markdown",
   "metadata": {},
   "source": [
    "### Creating the input file\n",
    "\n",
    "The first step to creating the input file is to create the pebble and particle location input cards.  This can be done using serpent's built in particle dispersal routine, which takes the dimensions of the particle, the volume they are dispersed in, and the particle number or packing fraction, the universe the particles are in, and creates a plain text file, where each line is:\n",
    "\n",
    "\\begin{align}\n",
    "x-coordinate\\ \\ y-coordinate\\ \\  z-coordinate\\ \\  universe\n",
    "\\end{align}"
   ]
  },
  {
   "cell_type": "code",
   "execution_count": null,
   "metadata": {},
   "outputs": [],
   "source": [
    "#simple to read in a text file, but shouldnt store a variable tens or hundreds of thousands of elements long\n",
    "# need to manipulate file without doing that (hopefully)\n",
    "#readlines()\n",
    "\n",
    "origin = open('pbbls.inp','r')\n",
    "\n",
    "filenames = ['test1.txt','test2.txt']\n",
    "\n",
    "lines = 0\n",
    "for line in list(origin):\n",
    "    lines += 1\n",
    "origin.seek(0)\n",
    "i = 0\n",
    "\n",
    "while i < lines:\n",
    "    for file in filenames:\n",
    "        f = open(file,'a+')\n",
    "        f.write(list(origin)[i] + 'a')\n",
    "        origin.seek(0)\n",
    "        f.close()\n",
    "        i += 1\n",
    "        if i == lines:\n",
    "            break\n",
    "            \n",
    "origin.close()"
   ]
  },
  {
   "cell_type": "code",
   "execution_count": null,
   "metadata": {},
   "outputs": [],
   "source": []
  }
 ],
 "metadata": {
  "kernelspec": {
   "display_name": "Python 3",
   "language": "python",
   "name": "python3"
  },
  "language_info": {
   "codemirror_mode": {
    "name": "ipython",
    "version": 3
   },
   "file_extension": ".py",
   "mimetype": "text/x-python",
   "name": "python",
   "nbconvert_exporter": "python",
   "pygments_lexer": "ipython3",
   "version": "3.7.4"
  }
 },
 "nbformat": 4,
 "nbformat_minor": 2
}
