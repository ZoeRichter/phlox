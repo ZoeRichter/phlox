{
 "cells": [
  {
   "cell_type": "code",
   "execution_count": 2,
   "metadata": {},
   "outputs": [
    {
     "ename": "ModuleNotFoundError",
     "evalue": "No module named 'pyne'",
     "output_type": "error",
     "traceback": [
      "\u001b[1;31m---------------------------------------------------------------------------\u001b[0m",
      "\u001b[1;31mModuleNotFoundError\u001b[0m                       Traceback (most recent call last)",
      "\u001b[1;32m<ipython-input-2-626a8699aefb>\u001b[0m in \u001b[0;36m<module>\u001b[1;34m\u001b[0m\n\u001b[0;32m      3\u001b[0m \u001b[1;32mimport\u001b[0m \u001b[0mmatplotlib\u001b[0m\u001b[1;33m.\u001b[0m\u001b[0mpyplot\u001b[0m \u001b[1;32mas\u001b[0m \u001b[0mplt\u001b[0m\u001b[1;33m\u001b[0m\u001b[1;33m\u001b[0m\u001b[0m\n\u001b[0;32m      4\u001b[0m \u001b[1;32mfrom\u001b[0m \u001b[0mjinja2\u001b[0m \u001b[1;32mimport\u001b[0m \u001b[0mTemplate\u001b[0m\u001b[1;33m\u001b[0m\u001b[1;33m\u001b[0m\u001b[0m\n\u001b[1;32m----> 5\u001b[1;33m \u001b[1;32mfrom\u001b[0m \u001b[0mpyne\u001b[0m \u001b[1;32mimport\u001b[0m \u001b[0mdata\u001b[0m\u001b[1;33m\u001b[0m\u001b[1;33m\u001b[0m\u001b[0m\n\u001b[0m",
      "\u001b[1;31mModuleNotFoundError\u001b[0m: No module named 'pyne'"
     ]
    }
   ],
   "source": [
    "import numpy as np\n",
    "import scipy as sci\n",
    "import matplotlib.pyplot as plt\n",
    "from jinja2 import Template\n",
    "from pyne import data"
   ]
  },
  {
   "cell_type": "markdown",
   "metadata": {},
   "source": [
    "First we want the helium density in $10^24$ atoms per cc.\n",
    "\n",
    "\\begin{align}\n",
    "PV&=nRT\\\\\n",
    "\\frac{n}{V}&=\\frac{P}{RT}\n",
    "\\end{align}"
   ]
  },
  {
   "cell_type": "code",
   "execution_count": 1,
   "metadata": {},
   "outputs": [
    {
     "ename": "NameError",
     "evalue": "name 'np' is not defined",
     "output_type": "error",
     "traceback": [
      "\u001b[1;31m---------------------------------------------------------------------------\u001b[0m",
      "\u001b[1;31mNameError\u001b[0m                                 Traceback (most recent call last)",
      "\u001b[1;32m<ipython-input-1-d1e34eab9a19>\u001b[0m in \u001b[0;36m<module>\u001b[1;34m\u001b[0m\n\u001b[0;32m      3\u001b[0m \u001b[0mtemp\u001b[0m \u001b[1;33m=\u001b[0m \u001b[1;33m[\u001b[0m\u001b[1;36m250\u001b[0m \u001b[1;33m,\u001b[0m\u001b[1;36m750\u001b[0m\u001b[1;33m]\u001b[0m \u001b[1;31m#celsius\u001b[0m\u001b[1;33m\u001b[0m\u001b[1;33m\u001b[0m\u001b[0m\n\u001b[0;32m      4\u001b[0m \u001b[0mpres\u001b[0m \u001b[1;33m=\u001b[0m \u001b[1;33m[\u001b[0m\u001b[1;36m6\u001b[0m\u001b[1;33m*\u001b[0m\u001b[1;36m10\u001b[0m\u001b[1;33m**\u001b[0m\u001b[1;36m6\u001b[0m\u001b[1;33m,\u001b[0m \u001b[1;36m5.84\u001b[0m\u001b[1;33m*\u001b[0m\u001b[1;36m10\u001b[0m\u001b[1;33m**\u001b[0m\u001b[1;36m6\u001b[0m\u001b[1;33m]\u001b[0m \u001b[1;31m#pascals\u001b[0m\u001b[1;33m\u001b[0m\u001b[1;33m\u001b[0m\u001b[0m\n\u001b[1;32m----> 5\u001b[1;33m \u001b[0mhedensity\u001b[0m \u001b[1;33m=\u001b[0m \u001b[0mnp\u001b[0m\u001b[1;33m.\u001b[0m\u001b[0mzeros\u001b[0m\u001b[1;33m(\u001b[0m\u001b[0mlen\u001b[0m\u001b[1;33m(\u001b[0m\u001b[0mtemp\u001b[0m\u001b[1;33m)\u001b[0m\u001b[1;33m)\u001b[0m\u001b[1;33m\u001b[0m\u001b[1;33m\u001b[0m\u001b[0m\n\u001b[0m\u001b[0;32m      6\u001b[0m \u001b[1;33m\u001b[0m\u001b[0m\n\u001b[0;32m      7\u001b[0m \u001b[1;33m\u001b[0m\u001b[0m\n",
      "\u001b[1;31mNameError\u001b[0m: name 'np' is not defined"
     ]
    }
   ],
   "source": [
    "\n",
    "R = 8.314 # j/k-mol\n",
    "temp = [250 ,750] #celsius\n",
    "pres = [6*10**6, 5.84*10**6] #pascals\n",
    "hedensity = np.zeros(len(temp))\n",
    "\n",
    "\n",
    "for i, t in enumerate(temp):\n",
    "    hedensity[i] = ((pres[i])/((t+273.15)*R)) # mol/m^3 \n",
    "\n",
    "hedensavg = np.sum(hedensity)/len(hedensity)*(6.022*10**-7)# 10^24/cc\n",
    "\n",
    "print(hedensavg)"
   ]
  },
  {
   "cell_type": "markdown",
   "metadata": {},
   "source": [
    "### Isotopic composition of the fuel\n",
    "\n",
    "The enrichment of the UCO kernels in the TRISO particles is known.  Additionally, we know the molar contentrations of the three compounds that make UCO: $UO_2$ , $UC$, and $UC_{1.86}$.  The atomic mass of each element is given using the PYNE python library.  The steps are as follows:\n",
    "\n",
    "\\begin{align}\n",
    "Mass_{UO_{2}} = (enrichment) * M_{235U} + (1-enrichment) * M_{238U} + (2 * M_{16O} \\\\\n",
    "Mass_{UC} = (enrichment) * M_{235U} + (1-enrichment) * M_{238U} + M_{12C} \\\\\n",
    "Mass_{UC_{1.86}} = (enrichment) * M_{235U} + (1-enrichment) * M_{238U} + 1.86 * M_{12C} \\\\\n",
    "\\end{align}\n",
    "\n",
    "The total mass of the UCO is the sum of these masses.  Then the isotopic concentration of each element is calculated as follows:\n",
    "\n",
    "\\begin{align}\n",
    "16O wt\\% = \\frac{2 * mol\\%UO_2 * M_{16O}}{Mass_{UCO}} \\\\\n",
    "235U wt\\% = \\frac{enrichment * M_{235U}}{Mass_{UCO}} \\\\\n",
    "238U wt\\% = \\frac{(1-enrichment) * M_{238U}}{Mass_{UCO}} \\\\\n",
    "12C wt\\% = \\frac{mol\\%UC_{1.86}* 1.86 * M_{12C} + mol\\%UC_{100} * M_{12C}}{Mass_{UCO}} \\\\\n",
    "\\end{align}"
   ]
  },
  {
   "cell_type": "code",
   "execution_count": 14,
   "metadata": {},
   "outputs": [
    {
     "name": "stdout",
     "output_type": "stream",
     "text": [
      "15.99491461957\n",
      "0.1328474919641083 0.7624328682381832 0.08606433036904058 0.017760029068465768\n"
     ]
    }
   ],
   "source": [
    "#calculate isotopic comp. of uranium isotopes for UCO\n",
    "#data on properties of UCO from Nagley et. all \"Fabrication...\"\n",
    "#update this using pyne\n",
    "\n",
    "molUO2 = 0.714\n",
    "molUC186 = 0.123\n",
    "molUC100 = 0.164\n",
    "\n",
    "mu235 = data.atomic_mass('u235')\n",
    "mu238 = data.atomic_mass('u238')\n",
    "mo16 = data.atomic_mass('o16')\n",
    "mc12 = data.atomic_mass('c12')\n",
    "\n",
    "uenrich = 0.155\n",
    "\n",
    "massUO2 = (uenrich*mu235) + (1-uenrich)*mu238 + (2*mo16)\n",
    "massUC186 = (uenrich*mu235) + (1-uenrich)*mu238 + 1.86*mc12 #actually, should this be 1.86, or .86?\n",
    "massUC100 = (uenrich*mu235) + (1-uenrich)*mu238 + mc12\n",
    "\n",
    "massUCO = molUO2*massUO2 + molUC86*massUC186 + molUC100*massUC100\n",
    "\n",
    "o16wt = (2*molUO2*mo16)/(massUCO)\n",
    "u235wt = (uenrich*mu235)/(massUCO)\n",
    "u238wt = ((1-uenrich)*mu238)/(massUCO)\n",
    "c12wt = (molUC186*1.86*mc12 + molUC100*mc12)/(massUCO)\n",
    "\n",
    "print(u235wt, u238wt, o16wt, c12wt)"
   ]
  },
  {
   "cell_type": "code",
   "execution_count": 11,
   "metadata": {},
   "outputs": [
    {
     "data": {
      "text/plain": [
       "1.001"
      ]
     },
     "execution_count": 11,
     "metadata": {},
     "output_type": "execute_result"
    }
   ],
   "source": [
    "molUO2 + molUC186 + molUC100\n"
   ]
  },
  {
   "cell_type": "markdown",
   "metadata": {},
   "source": [
    "In order to find the core dimensions, I took an image of the reactor core given by X-energy in a presentation to the NRC.  \n",
    "<br>\n",
    "Then, I opened it in an image viewer that gave the cursor's coordinates in pixels, measured the reactor core features in pixels.  Knowing the outer core diameter, developed a scale between pixels and meters, and used that to determine the core geometry.\n",
    "\n",
    "\\begin{align}\n",
    "scale (\\frac{cm}{px}) = 100* \\frac{RPV_D (m)}{RPV_D (px)}\\\\\n",
    "Dimension (cm) = Dimension (px) * scale\n",
    "\\end{align}"
   ]
  },
  {
   "cell_type": "code",
   "execution_count": 11,
   "metadata": {},
   "outputs": [
    {
     "name": "stdout",
     "output_type": "stream",
     "text": [
      "431.4202898550724\n",
      "\n",
      "123.76811594202897\n",
      "91.94202898550724\n",
      "215.7101449275362\n"
     ]
    }
   ],
   "source": [
    "core_dm = 4.88 # m\n",
    "core_dpx = 69 #px\n",
    "scale = core_dm/core_dpx *100 # cm/px\n",
    "\n",
    "inner_corerad_px = 17.5\n",
    "inner_corerad_cm = inner_corerad_px *scale\n",
    "reflect_px = 13\n",
    "reflect_cm = reflect_px *scale\n",
    "\n",
    "print(2*(reflect_cm+inner_corerad_cm)) #can't be more than 488, which is the diameter including RPV\n",
    "print()\n",
    "print(inner_corerad_cm)\n",
    "print(reflect_cm)\n",
    "print(inner_corerad_cm+reflect_cm)"
   ]
  },
  {
   "cell_type": "markdown",
   "metadata": {},
   "source": [
    "I found the midpoint of the cones on the top and bottom , and used the distance between these two midpoints as an adjusted height.  Then, I simplified by letting the reflector directly surround this region."
   ]
  },
  {
   "cell_type": "code",
   "execution_count": 10,
   "metadata": {},
   "outputs": [
    {
     "name": "stdout",
     "output_type": "stream",
     "text": [
      "965.391304347826\n"
     ]
    }
   ],
   "source": [
    "mid_bott_y = 228\n",
    "mid_top_y = 91.5\n",
    "\n",
    "adj_h_px = mid_bott_y - mid_top_y #px\n",
    "\n",
    "adj_h_cm = adj_h_px*scale\n",
    "\n",
    "print(adj_h_cm)"
   ]
  },
  {
   "cell_type": "markdown",
   "metadata": {},
   "source": [
    "### Creating the input file\n",
    "\n",
    "The first step to creating the input file is to create the pebble and particle location input cards.  This can be done using serpent's built in particle dispersal routine, which takes the dimensions of the particle, the volume they are dispersed in, and the particle number or packing fraction, the universe the particles are in, and creates a plain text file, where each line is:\n",
    "\n",
    "\\begin{align}\n",
    "x-coordinate\\ \\ y-coordinate\\ \\  z-coordinate\\ \\  universe\n",
    "\\end{align}"
   ]
  },
  {
   "cell_type": "code",
   "execution_count": null,
   "metadata": {},
   "outputs": [],
   "source": [
    "#simple to read in a text file, but shouldnt store a variable tens or hundreds of thousands of elements long\n",
    "# need to manipulate file without doing that (hopefully)"
   ]
  }
 ],
 "metadata": {
  "kernelspec": {
   "display_name": "Python 3",
   "language": "python",
   "name": "python3"
  },
  "language_info": {
   "codemirror_mode": {
    "name": "ipython",
    "version": 3
   },
   "file_extension": ".py",
   "mimetype": "text/x-python",
   "name": "python",
   "nbconvert_exporter": "python",
   "pygments_lexer": "ipython3",
   "version": "3.7.3"
  }
 },
 "nbformat": 4,
 "nbformat_minor": 2
}
