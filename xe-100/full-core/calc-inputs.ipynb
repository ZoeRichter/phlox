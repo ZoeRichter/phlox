{
 "cells": [
  {
   "cell_type": "code",
   "execution_count": 1,
   "metadata": {},
   "outputs": [
    {
     "name": "stderr",
     "output_type": "stream",
     "text": [
      "/home/zoe/anaconda3/lib/python3.7/site-packages/ipykernel_launcher.py:5: DeprecationWarning: Using or importing the ABCs from 'collections' instead of from 'collections.abc' is deprecated, and in 3.8 it will stop working\n",
      "  \"\"\"\n",
      "/home/zoe/anaconda3/lib/python3.7/importlib/_bootstrap.py:219: QAWarning: pyne.data is not yet QA compliant.\n",
      "  return f(*args, **kwds)\n",
      "/home/zoe/anaconda3/lib/python3.7/importlib/_bootstrap.py:219: QAWarning: pyne.material is not yet QA compliant.\n",
      "  return f(*args, **kwds)\n"
     ]
    }
   ],
   "source": [
    "import numpy as np\n",
    "import scipy as sci\n",
    "import matplotlib.pyplot as plt\n",
    "from jinja2 import Template\n",
    "from pyne import data\n",
    "from pyne.material import Material"
   ]
  },
  {
   "cell_type": "markdown",
   "metadata": {},
   "source": [
    "First we want the helium density in $10^24$ atoms per cc.\n",
    "\n",
    "\\begin{align}\n",
    "PV&=nRT\\\\\n",
    "\\frac{n}{V}&=\\frac{P}{RT}\n",
    "\\end{align}"
   ]
  },
  {
   "cell_type": "code",
   "execution_count": 2,
   "metadata": {},
   "outputs": [
    {
     "name": "stdout",
     "output_type": "stream",
     "text": [
      "0.000622077124202638\n"
     ]
    }
   ],
   "source": [
    "\n",
    "R = 8.314 # j/k-mol\n",
    "temp = [250 ,750] #celsius\n",
    "pres = [6*10**6, 5.84*10**6] #pascals\n",
    "hedensity = np.zeros(len(temp))\n",
    "\n",
    "\n",
    "for i, t in enumerate(temp):\n",
    "    hedensity[i] = ((pres[i])/((t+273.15)*R)) # mol/m^3 \n",
    "\n",
    "hedensavg = np.sum(hedensity)/len(hedensity)*(6.022*10**-7)# 10^24/cc\n",
    "\n",
    "print(hedensavg)"
   ]
  },
  {
   "cell_type": "markdown",
   "metadata": {},
   "source": [
    "### Isotopic composition of the fuel\n",
    "\n",
    "The enrichment of the UCO kernels in the TRISO particles is known.  Additionally, we know the molar contentrations of the three compounds that make UCO: $UO_2$ , $UC$, and $UC_{1.86}$. The [PyNE](https://pyne.io/) python library is used to create the material cards for the fuel.\n",
    "<br>\n",
    "UCO is created from $UO_2$, $UC$, and $UC_{1.86}$ in molar concentrations of 0.714, 0.164, and 0.123, respectively."
   ]
  },
  {
   "cell_type": "code",
   "execution_count": 3,
   "metadata": {},
   "outputs": [
    {
     "name": "stdout",
     "output_type": "stream",
     "text": [
      "m?\n",
      "     6012 -1.7761e-02\n",
      "     8016 -8.6071e-02\n",
      "     92235 -1.3891e-01\n",
      "     92238 -7.5726e-01\n",
      "\n"
     ]
    },
    {
     "name": "stderr",
     "output_type": "stream",
     "text": [
      "/home/zoe/anaconda3/lib/python3.7/site-packages/ipykernel_launcher.py:1: DeprecationWarning: Using or importing the ABCs from 'collections' instead of from 'collections.abc' is deprecated, and in 3.8 it will stop working\n",
      "  \"\"\"Entry point for launching an IPython kernel.\n"
     ]
    }
   ],
   "source": [
    "leu = Material({'U235': 0.155 , 'U238': 0.845})\n",
    "uo2 = Material()\n",
    "uc = Material()\n",
    "uc186 = Material()\n",
    "\n",
    "uo2.from_atom_frac({'O16': 2.0 , leu :1.0})\n",
    "uc.from_atom_frac({'C12':1, leu: 1.0})\n",
    "uc186.from_atom_frac({'C12':1.86, leu : 1.0})\n",
    "\n",
    "uco = Material()\n",
    "uco.from_atom_frac({uo2: 0.714, uc: 0.164, uc186: 0.123})\n",
    "print(uco.mcnp()) #the negative values for composition mean it is mass fraction, just like serpent\n"
   ]
  },
  {
   "cell_type": "markdown",
   "metadata": {},
   "source": [
    "In order to find the core dimensions, I took an image of the reactor core given by X-energy in a presentation to the NRC.  \n",
    "<br>\n",
    "Then, I opened it in an image viewer that gave the cursor's coordinates in pixels, measured the reactor core features in pixels.  Knowing the outer core diameter, developed a scale between pixels and meters, and used that to determine the core geometry.\n",
    "\n",
    "\\begin{align}\n",
    "s (\\frac{cm}{px}) = 100* \\frac{RPV_D (m)}{RPV_D (px)}\\\\\n",
    "x (cm) = x (px) * scale\n",
    "\\end{align}"
   ]
  },
  {
   "cell_type": "code",
   "execution_count": 5,
   "metadata": {},
   "outputs": [
    {
     "name": "stdout",
     "output_type": "stream",
     "text": [
      "431.4202898550724\n",
      "\n",
      "123.76811594202897\n",
      "91.94202898550724\n",
      "215.7101449275362\n"
     ]
    }
   ],
   "source": [
    "core_dm = 4.88 # m\n",
    "core_dpx = 69 #px\n",
    "scale = core_dm/core_dpx *100 # cm/px\n",
    "\n",
    "inner_corerad_px = 17.5\n",
    "inner_corerad_cm = inner_corerad_px *scale\n",
    "reflect_px = 13\n",
    "reflect_cm = reflect_px *scale\n",
    "\n",
    "print(2*(reflect_cm+inner_corerad_cm)) #can't be more than 488, which is the diameter including RPV\n",
    "print()\n",
    "print(inner_corerad_cm)\n",
    "print(reflect_cm)\n",
    "print(inner_corerad_cm+reflect_cm)"
   ]
  },
  {
   "cell_type": "markdown",
   "metadata": {},
   "source": [
    "I found the midpoint of the cones on the top and bottom , and used the distance between these two midpoints as an adjusted height.  Then, I simplified by letting the reflector directly surround this region."
   ]
  },
  {
   "cell_type": "code",
   "execution_count": 6,
   "metadata": {},
   "outputs": [
    {
     "name": "stdout",
     "output_type": "stream",
     "text": [
      "965.391304347826\n"
     ]
    }
   ],
   "source": [
    "mid_bott_y = 228\n",
    "mid_top_y = 91.5\n",
    "\n",
    "adj_h_px = mid_bott_y - mid_top_y #px\n",
    "\n",
    "adj_h_cm = adj_h_px*scale\n",
    "\n",
    "print(adj_h_cm)"
   ]
  },
  {
   "cell_type": "markdown",
   "metadata": {},
   "source": [
    "### Creating the input file\n",
    "\n",
    "The first step to creating the input file is to create the pebble and particle location input cards.  This can be done using serpent's built in particle dispersal routine, which takes the dimensions of the particle, the volume they are dispersed in, and the particle number or packing fraction, the universe the particles are in, and creates a plain text file, where each line is:\n",
    "\n",
    "\\begin{align}\n",
    "x-coordinate\\ \\ y-coordinate\\ \\  z-coordinate\\ \\  universe\n",
    "\\end{align}\n",
    "\n",
    "In order to split the automatically generated distribution file into several sub-files for modeling different fuel compositions, the cell below splits a given text file into multiple.  It can also append a character to the universe name, if needed."
   ]
  },
  {
   "cell_type": "code",
   "execution_count": 19,
   "metadata": {},
   "outputs": [],
   "source": [
    "origin = open('test.txt','r')\n",
    "\n",
    "filenames = ['test1.txt','test2.txt','test3.txt','test4.txt']\n",
    "\n",
    "lines = 0\n",
    "for line in list(origin):\n",
    "    lines += 1\n",
    "origin.seek(0)\n",
    "i = 0\n",
    "\n",
    "file = ['f1','f2','f3','f4']\n",
    "for index, name in enumerate(filenames):\n",
    "    file[index] = open(name,'a+')\n",
    "subuniverse = ['a','b','c','d']    \n",
    "    \n",
    "while i < lines:\n",
    "    for index, f in enumerate(file):\n",
    "        #use lines below if you need to append a new character to universe name\n",
    "        #newline = origin.readline()\n",
    "        #f.write(newline[:-1] + subuniverse[index] + newline[-1:])\n",
    "        f.write(origin.readline())\n",
    "        i += 1\n",
    "        if i == lines:\n",
    "            break\n",
    "for f in file:\n",
    "    f.close()\n",
    "origin.close()"
   ]
  },
  {
   "cell_type": "code",
   "execution_count": null,
   "metadata": {},
   "outputs": [],
   "source": []
  }
 ],
 "metadata": {
  "kernelspec": {
   "display_name": "Python 3",
   "language": "python",
   "name": "python3"
  },
  "language_info": {
   "codemirror_mode": {
    "name": "ipython",
    "version": 3
   },
   "file_extension": ".py",
   "mimetype": "text/x-python",
   "name": "python",
   "nbconvert_exporter": "python",
   "pygments_lexer": "ipython3",
   "version": "3.7.4"
  }
 },
 "nbformat": 4,
 "nbformat_minor": 2
}
